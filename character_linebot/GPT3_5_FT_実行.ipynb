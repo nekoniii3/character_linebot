{
  "nbformat": 4,
  "nbformat_minor": 0,
  "metadata": {
    "colab": {
      "provenance": [],
      "include_colab_link": true
    },
    "kernelspec": {
      "name": "python3",
      "display_name": "Python 3"
    },
    "language_info": {
      "name": "python"
    }
  },
  "cells": [
    {
      "cell_type": "markdown",
      "metadata": {
        "id": "view-in-github",
        "colab_type": "text"
      },
      "source": [
        "<a href=\"https://colab.research.google.com/github/nekoniii3/character_linebot/blob/main/character_linebot/GPT3_5_FT_%E5%AE%9F%E8%A1%8C.ipynb\" target=\"_parent\"><img src=\"https://colab.research.google.com/assets/colab-badge.svg\" alt=\"Open In Colab\"/></a>"
      ]
    },
    {
      "cell_type": "markdown",
      "source": [
        "# **GPTでファインチューニングを実行するためのノートです**\n",
        "### JSONLファイルが必要となります"
      ],
      "metadata": {
        "id": "wi0k5ZWWPUC8"
      }
    },
    {
      "cell_type": "code",
      "source": [
        "# openaiインストール\n",
        "!pip install openai"
      ],
      "metadata": {
        "id": "xUXeFDN1po-_"
      },
      "execution_count": null,
      "outputs": []
    },
    {
      "cell_type": "code",
      "source": [
        "import openai\n",
        "\n",
        "# OpenAIキーのセット\n",
        "openai.api_key = 'ここにOpenAIキーをセット'"
      ],
      "metadata": {
        "id": "850sQOOPKZpM"
      },
      "execution_count": null,
      "outputs": []
    },
    {
      "cell_type": "markdown",
      "source": [
        "## **学習データのアップロード**\n",
        "### ファイルをアップしパスを指定してください"
      ],
      "metadata": {
        "id": "J7LWyPsGHC4d"
      }
    },
    {
      "cell_type": "code",
      "source": [
        "import json\n",
        "\n",
        "filepath = \"/content/ootani_qa.jsonl\"\n",
        "\n",
        "# 学習データのアップロード\n",
        "response = openai.File.create(\n",
        "    file=open(filepath, \"rb\"),\n",
        "    purpose=\"fine-tune\"\n",
        ")\n",
        "\n",
        "print(response['id'])"
      ],
      "metadata": {
        "id": "SSBc3eIuJuyB"
      },
      "execution_count": null,
      "outputs": []
    },
    {
      "cell_type": "markdown",
      "source": [
        "## **トレーニングの実行**"
      ],
      "metadata": {
        "id": "b3liwFFhHs6r"
      }
    },
    {
      "cell_type": "code",
      "source": [
        "#ファインチューニングトレーニングの開始\n",
        "ftjob = openai.FineTuningJob.create(\n",
        "    training_file=response['id'],\n",
        "    model='gpt-3.5-turbo-0613'\n",
        ")\n",
        "print(ftjob)\n"
      ],
      "metadata": {
        "id": "VBzgQMV4plsN"
      },
      "execution_count": null,
      "outputs": []
    },
    {
      "cell_type": "code",
      "source": [
        "# 現在のジョブ状況の確認\n",
        "response = openai.FineTuningJob.retrieve(ftjob['id'])\n",
        "print(response['status'])\n"
      ],
      "metadata": {
        "id": "hQRPnpDNpm-x"
      },
      "execution_count": null,
      "outputs": []
    },
    {
      "cell_type": "code",
      "source": [
        "# 完了後にモデルが表示できます\n",
        "response = openai.FineTuningJob.retrieve(ftjob['id'])\n",
        "print(response['fine_tuned_model'])"
      ],
      "metadata": {
        "id": "SPNzbYNHrcfe"
      },
      "execution_count": null,
      "outputs": []
    },
    {
      "cell_type": "markdown",
      "source": [
        "## **ファインチューニング後の確認**"
      ],
      "metadata": {
        "id": "TeW1l8_MGbZc"
      }
    },
    {
      "cell_type": "code",
      "source": [
        "model_name = get_model_name_by_id(ftjob['id'])\n",
        "\n",
        "print(model_name)"
      ],
      "metadata": {
        "id": "098xxiPlPS_f"
      },
      "execution_count": null,
      "outputs": []
    },
    {
      "cell_type": "code",
      "source": [
        "completion = openai.ChatCompletion.create(\n",
        "    model=model_name,\n",
        "    messages=[\n",
        "        {\"role\": \"system\", \"content\": \"あなたはMLBプレーヤーである大谷翔平です。大谷翔平選手として回答してください。\"},\n",
        "        {\"role\": \"user\", \"content\": \"憧れていた選手は？\"}\n",
        "    ]\n",
        ")\n",
        "print(completion.choices[0].message[\"content\"])"
      ],
      "metadata": {
        "id": "TqFfwn__MY5R"
      },
      "execution_count": null,
      "outputs": []
    }
  ]
}